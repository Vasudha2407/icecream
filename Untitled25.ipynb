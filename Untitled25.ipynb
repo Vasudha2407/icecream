{
  "nbformat": 4,
  "nbformat_minor": 0,
  "metadata": {
    "colab": {
      "provenance": []
    },
    "kernelspec": {
      "name": "python3",
      "display_name": "Python 3"
    },
    "language_info": {
      "name": "python"
    }
  },
  "cells": [
    {
      "cell_type": "markdown",
      "source": [],
      "metadata": {
        "id": "o_1UcBxgtdzQ"
      }
    },
    {
      "cell_type": "code",
      "execution_count": 4,
      "metadata": {
        "colab": {
          "base_uri": "https://localhost:8080/"
        },
        "id": "fInXyzMAtbWB",
        "outputId": "2e732846-5887-484d-eafa-afe8bceda068"
      },
      "outputs": [
        {
          "output_type": "stream",
          "name": "stdout",
          "text": [
            "Total Sales: $1603.30\n",
            "\n",
            "Month-wise Sales Totals:\n",
            "01-2023: $658.45\n",
            "02-2023: $571.20\n",
            "03-2023: $51.00\n",
            "04-2023: $30.10\n",
            "05-2023: $11.65\n",
            "06-2023: $41.40\n",
            "07-2023: $48.90\n",
            "08-2023: $22.20\n",
            "09-2023: $42.75\n",
            "10-2023: $43.30\n",
            "11-2023: $34.75\n",
            "12-2023: $47.60\n",
            "\n",
            "Most Popular Item in Each Month:\n",
            "01-2023: Pistachio (Quantity: 31)\n",
            "02-2023: Strawberry (Quantity: 31)\n",
            "03-2023: Cookie Dough (Quantity: 9)\n",
            "04-2023: Chocolate (Quantity: 8)\n",
            "05-2023: Pistachio (Quantity: 2)\n",
            "06-2023: Strawberry (Quantity: 10)\n",
            "07-2023: Rocky Road (Quantity: 7)\n",
            "08-2023: Chocolate (Quantity: 6)\n",
            "09-2023: Pistachio (Quantity: 8)\n",
            "10-2023: Rocky Road (Quantity: 9)\n",
            "11-2023: Chocolate (Quantity: 7)\n",
            "12-2023: Mint Chocolate Chip (Quantity: 6)\n",
            "\n",
            "Item Generating Most Revenue in Each Month:\n",
            "01-2023: Pistachio (Revenue: $119.25)\n",
            "02-2023: Strawberry (Revenue: $96.75)\n",
            "03-2023: Cookie Dough (Revenue: $40.50)\n",
            "04-2023: Chocolate (Revenue: $18.40)\n",
            "05-2023: Pistachio (Revenue: $8.40)\n",
            "06-2023: Strawberry (Revenue: $30.00)\n",
            "07-2023: Rocky Road (Revenue: $27.65)\n",
            "08-2023: Chocolate (Revenue: $15.00)\n",
            "09-2023: Pistachio (Revenue: $32.40)\n",
            "10-2023: Rocky Road (Revenue: $31.50)\n",
            "11-2023: Chocolate (Revenue: $19.25)\n",
            "12-2023: Mint Chocolate Chip (Revenue: $23.10)\n",
            "\n",
            "Most Popular Item's Min, Max, and Average Orders Each Month:\n",
            "01-2023: Pistachio - Min: 6, Max: 10, Avg: 7.75\n",
            "02-2023: Strawberry - Min: 2, Max: 10, Avg: 6.20\n",
            "03-2023: Cookie Dough - Min: 9, Max: 9, Avg: 9.00\n",
            "04-2023: Chocolate - Min: 8, Max: 8, Avg: 8.00\n",
            "05-2023: Pistachio - Min: 2, Max: 2, Avg: 2.00\n",
            "06-2023: Strawberry - Min: 10, Max: 10, Avg: 10.00\n",
            "07-2023: Rocky Road - Min: 7, Max: 7, Avg: 7.00\n",
            "08-2023: Chocolate - Min: 6, Max: 6, Avg: 6.00\n",
            "09-2023: Pistachio - Min: 8, Max: 8, Avg: 8.00\n",
            "10-2023: Rocky Road - Min: 9, Max: 9, Avg: 9.00\n",
            "11-2023: Chocolate - Min: 7, Max: 7, Avg: 7.00\n",
            "12-2023: Mint Chocolate Chip - Min: 6, Max: 6, Avg: 6.00\n"
          ]
        }
      ],
      "source": [
        "import csv\n",
        "from collections import defaultdict\n",
        "from datetime import datetime\n",
        "\n",
        "filename = \"ice cream.csv\"\n",
        "data = []\n",
        "\n",
        "with open(filename, mode='r') as file:\n",
        "    csv_reader = csv.DictReader(file)\n",
        "    for row in csv_reader:\n",
        "        if row['quantity'] == '' or row['price'] == '':\n",
        "            continue\n",
        "        row['quantity'] = int(row['quantity'])\n",
        "        row['price'] = float(row['price'])\n",
        "        row['date'] = datetime.strptime(row['date'], '%d-%m-%Y')\n",
        "        data.append(row)\n",
        "total_sales = sum(row['quantity'] * row['price'] for row in data)\n",
        "print(f\"Total Sales: ${total_sales:.2f}\")\n",
        "\n",
        "monthly_sales = defaultdict(float)\n",
        "for row in data:\n",
        "    month_year = row['date'].strftime('%m-%Y')\n",
        "    monthly_sales[month_year] += row['quantity'] * row['price']\n",
        "\n",
        "print(\"\\nMonth-wise Sales Totals:\")\n",
        "for month, sales in sorted(monthly_sales.items()):\n",
        "    print(f\"{month}: ${sales:.2f}\")\n",
        "popular_items_per_month = defaultdict(lambda: defaultdict(int))\n",
        "for row in data:\n",
        "    month_year = row['date'].strftime('%m-%Y')\n",
        "    popular_items_per_month[month_year][row['item']] += row['quantity']\n",
        "\n",
        "print(\"\\nMost Popular Item in Each Month:\")\n",
        "for month, items in sorted(popular_items_per_month.items()):\n",
        "    popular_item = max(items, key=items.get)\n",
        "    print(f\"{month}: {popular_item} (Quantity: {items[popular_item]})\")\n",
        "revenue_per_item_per_month = defaultdict(lambda: defaultdict(float))\n",
        "for row in data:\n",
        "    month_year = row['date'].strftime('%m-%Y')\n",
        "    revenue_per_item_per_month[month_year][row['item']] += row['quantity'] * row['price']\n",
        "\n",
        "print(\"\\nItem Generating Most Revenue in Each Month:\")\n",
        "for month, items in sorted(revenue_per_item_per_month.items()):\n",
        "    highest_revenue_item = max(items, key=items.get)\n",
        "    print(f\"{month}: {highest_revenue_item} (Revenue: ${items[highest_revenue_item]:.2f})\")\n",
        "\n",
        "print(\"\\nMost Popular Item's Min, Max, and Average Orders Each Month:\")\n",
        "for month, items in sorted(popular_items_per_month.items()):\n",
        "    popular_item = max(items, key=items.get)\n",
        "    orders = [row['quantity'] for row in data if row['date'].strftime('%m-%Y') == month and row['item'] == popular_item]\n",
        "    min_orders = min(orders)\n",
        "    max_orders = max(orders)\n",
        "    avg_orders = sum(orders) / len(orders)\n",
        "    print(f\"{month}: {popular_item} - Min: {min_orders}, Max: {max_orders}, Avg: {avg_orders:.2f}\")"
      ]
    }
  ]
}